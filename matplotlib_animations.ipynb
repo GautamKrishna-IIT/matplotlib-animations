{
 "cells": [
  {
   "cell_type": "markdown",
   "id": "0ebaa776",
   "metadata": {},
   "source": [
    "# Matplotlib Animations: Creating Dynamic Visualizations\n",
    "\n",
    "## 1. Introduction\n",
    "\n",
    "**Why Animations?**  \n",
    "Data visualization plays a crucial role in data analysis. While static plots are effective for presenting data snapshots, they often fall short when representing changes over time. This is where **Matplotlib's animation module** comes into play. It allows for dynamic, engaging, and informative visualizations.\n",
    "\n",
    "In this notebook, we will explore Matplotlib’s animation module, covering key features, and walking through examples using **FuncAnimation** and **ArtistAnimation**."
   ]
  },
  {
   "cell_type": "markdown",
   "id": "4888252d",
   "metadata": {},
   "source": [
    "## 2. Installation & Setup\n",
    "\n",
    "Before diving in, make sure you have Matplotlib installed. You can install it using pip if it's not already installed:\n",
    "\n",
    "```bash\n",
    "pip install matplotlib\n",
    "pip install pillow\n",
    "```\n",
    "\n",
    "We also need NumPy for data manipulation:\n",
    "\n",
    "```bash\n",
    "pip install numpy\n",
    "```"
   ]
  },
  {
   "cell_type": "markdown",
   "id": "05e0f5ee",
   "metadata": {},
   "source": [
    "## 3. Key Features of Matplotlib Animation\n",
    "\n",
    "Matplotlib’s animation module provides two primary methods for creating animations:\n",
    "\n",
    "1. **FuncAnimation** – Updates plots frame by frame, perfect for real-time data or continuous motion.\n",
    "2. **ArtistAnimation** – Stitches together pre-generated frames to create an animation.\n",
    "\n",
    "**Additional Features:**\n",
    "- Customizable frame rates and intervals.\n",
    "- Integration with NumPy and Pandas for complex data handling.\n",
    "- Ability to save animations as GIFs or videos using `FFmpeg` or `pillow`."
   ]
  },
  {
   "cell_type": "markdown",
   "id": "b88680d4",
   "metadata": {},
   "source": [
    "## 4. Code Examples"
   ]
  },
  {
   "cell_type": "markdown",
   "id": "075ad14b",
   "metadata": {},
   "source": [
    "### Example 1: Animated Sine Wave using FuncAnimation"
   ]
  },
  {
   "cell_type": "code",
   "execution_count": null,
   "id": "32875644",
   "metadata": {},
   "outputs": [],
   "source": [
    "import numpy as np\n",
    "import matplotlib.pyplot as plt\n",
    "import matplotlib.animation as animation\n",
    "\n",
    "# Create figure and axis\n",
    "fig, ax = plt.subplots()\n",
    "x = np.linspace(0, 4 * np.pi, 100)\n",
    "line, = ax.plot(x, np.sin(x))\n",
    "\n",
    "# Update function\n",
    "def update(frame):\n",
    "    line.set_ydata(np.sin(x + frame * 0.1))  # Shift sine wave\n",
    "    return line,\n",
    "\n",
    "# Animate\n",
    "ani = animation.FuncAnimation(fig, update, frames=100, interval=50)\n",
    "\n",
    "# Save as GIF\n",
    "ani.save('sine_wave.gif', writer='pillow')\n",
    "\n",
    "plt.title('Animated Sine Wave')\n",
    "plt.close()"
   ]
  },
  {
   "cell_type": "markdown",
   "id": "79256a4a",
   "metadata": {},
   "source": [
    "**Explanation:**\n",
    "- `FuncAnimation` updates the y-values for each frame, creating a dynamic sine wave.\n",
    "- The animation is saved as a GIF using `pillow`."
   ]
  },
  {
   "cell_type": "markdown",
   "id": "1eb401e7",
   "metadata": {},
   "source": [
    "![Sine Wave Animation](sine_wave.gif)"
   ]
  },
  {
   "cell_type": "markdown",
   "id": "4a3fba9f",
   "metadata": {},
   "source": [
    "### Example 2: Random Walk using FuncAnimation"
   ]
  },
  {
   "cell_type": "code",
   "execution_count": null,
   "id": "1732a2d3",
   "metadata": {},
   "outputs": [],
   "source": [
    "# Create figure and axis\n",
    "fig, ax = plt.subplots()\n",
    "ax.set_xlim(-10, 10)\n",
    "ax.set_ylim(-10, 10)\n",
    "\n",
    "# Initialize empty data arrays\n",
    "x_data, y_data = [0], [0]  # Start at origin\n",
    "line, = ax.plot([], [], 'ro-')  # 'ro-' gives red dots with connecting lines\n",
    "\n",
    "# Update function\n",
    "def update(frame):\n",
    "    x_data.append(x_data[-1] + np.random.randn())\n",
    "    y_data.append(y_data[-1] + np.random.randn())\n",
    "    line.set_data(x_data, y_data)\n",
    "    return line,\n",
    "\n",
    "# Animate\n",
    "ani = animation.FuncAnimation(fig, update, frames=100, interval=100)\n",
    "\n",
    "# Save as GIF\n",
    "ani.save('random_walk.gif', writer='pillow')\n",
    "\n",
    "plt.title('Random Walk Animation')\n",
    "plt.close()"
   ]
  },
  {
   "cell_type": "markdown",
   "id": "7e4ca829",
   "metadata": {},
   "source": [
    "**Explanation:**\n",
    "- A red point moves randomly across the plot area, simulating a random walk.\n",
    "- The animation is saved as a GIF."
   ]
  },
  {
   "cell_type": "markdown",
   "id": "220dac73",
   "metadata": {},
   "source": [
    "![Random Walk Animation](random_walk.gif)"
   ]
  },
  {
   "cell_type": "markdown",
   "id": "c8ec8238",
   "metadata": {},
   "source": [
    "### Example 3: Pre-rendered Frames with ArtistAnimation"
   ]
  },
  {
   "cell_type": "code",
   "execution_count": null,
   "id": "ca38e34e",
   "metadata": {},
   "outputs": [],
   "source": [
    "# Create figure and axis\n",
    "fig, ax = plt.subplots()\n",
    "frames = []\n",
    "\n",
    "# Pre-render frames\n",
    "for i in range(10):\n",
    "    x = np.linspace(0, 4 * np.pi, 100)\n",
    "    y = np.sin(x + i * 0.2)\n",
    "    frame, = ax.plot(x, y, 'b')\n",
    "    frames.append([frame])\n",
    "\n",
    "# Create animation\n",
    "ani = animation.ArtistAnimation(fig, frames, interval=200, blit=True)\n",
    "\n",
    "# Save as GIF\n",
    "ani.save('artist_animation.gif', writer='pillow')\n",
    "\n",
    "plt.title('ArtistAnimation Example')\n",
    "plt.close()"
   ]
  },
  {
   "cell_type": "markdown",
   "id": "31fea26c",
   "metadata": {},
   "source": [
    "**Explanation:**\n",
    "- **ArtistAnimation** stitches together pre-rendered frames for a smoother playback.\n",
    "- The animation is saved as a GIF."
   ]
  },
  {
   "cell_type": "markdown",
   "id": "d4a4ba6f",
   "metadata": {},
   "source": [
    "![Artist Animation](artist_animation.gif)"
   ]
  },
  {
   "cell_type": "markdown",
   "id": "ba46b35c",
   "metadata": {},
   "source": [
    "## 5. Saving Animations\n",
    "\n",
    "All animations in this notebook are saved as GIFs using the `pillow` writer. This ensures that they can be viewed directly when hosted."
   ]
  },
  {
   "cell_type": "markdown",
   "id": "1304c928",
   "metadata": {},
   "source": [
    "## 6. Use Cases\n",
    "\n",
    "- **Scientific Simulations** (e.g., molecular dynamics, fluid flow)\n",
    "- **Financial Data Visualization** (e.g., stock price trends over time)\n",
    "- **Educational Content** (e.g., math visualizations, physics demonstrations)\n",
    "- **Real-Time Data Dashboards** (e.g., live data feeds)"
   ]
  },
  {
   "cell_type": "markdown",
   "id": "a14702ef",
   "metadata": {},
   "source": [
    "## 7. Conclusion\n",
    "\n",
    "Matplotlib’s animation module is a versatile tool that can transform static plots into dynamic visualizations. Whether using **FuncAnimation** for real-time data updates or **ArtistAnimation** for combining pre-rendered frames, the possibilities are vast.\n",
    "\n",
    "Saving animations as GIFs ensures they can be easily viewed on platforms like GitHub."
   ]
  },
  {
   "cell_type": "markdown",
   "id": "d2d9be99",
   "metadata": {},
   "source": [
    "## 8. References & Further Reading\n",
    "\n",
    "- [Matplotlib Animation Documentation](https://matplotlib.org/stable/api/animation_api.html)\n",
    "- [Saving Animations with Matplotlib](https://matplotlib.org/stable/gallery/animation/index.html)\n",
    "- [FFmpeg Installation Guide](https://ffmpeg.org/download.html)"
   ]
  },
  {
   "cell_type": "markdown",
   "id": "aa35913b",
   "metadata": {},
   "source": [
    "🎨📊 **Happy Animating!**"
   ]
  }
 ],
 "metadata": {
  "jupytext": {
   "notebook_metadata_filter": "jupytext_format_version"
  },
  "kernelspec": {
   "display_name": "Python 3 (ipykernel)",
   "language": "python",
   "name": "python3"
  },
  "language_info": {
   "codemirror_mode": {
    "name": "ipython",
    "version": 3
   },
   "file_extension": ".py",
   "mimetype": "text/x-python",
   "name": "python",
   "nbconvert_exporter": "python",
   "pygments_lexer": "ipython3",
   "version": "3.13.1"
  }
 },
 "nbformat": 4,
 "nbformat_minor": 5
}
